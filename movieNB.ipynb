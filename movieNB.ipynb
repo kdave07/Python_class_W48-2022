{
 "cells": [
  {
   "cell_type": "markdown",
   "id": "be6f4e3e-ac96-45fb-a5fb-07354fda6ffd",
   "metadata": {},
   "source": [
    "# Access Relational DB\n",
    "## meaning we have a notion of \"ids\" and classification in tables of those ids\n",
    "- model: relational algebra\n",
    "- standard SQL\n",
    "- editor: PostgreSQL, MySQL/MariaDB, SQL Server ,Oracle DB\n"
   ]
  },
  {
   "cell_type": "code",
   "execution_count": 1,
   "id": "f092b015-b304-4b63-a0c5-ff16dcaa522b",
   "metadata": {},
   "outputs": [],
   "source": [
    "import psycopg2 as pg\n",
    "import movies"
   ]
  },
  {
   "cell_type": "code",
   "execution_count": 2,
   "id": "601eb568-376e-47b1-bd4b-15c5a982385d",
   "metadata": {},
   "outputs": [],
   "source": [
    "host = \"10.31.70.76\"\n",
    "port = 5432\n",
    "dbname = \"dbmovie\"\n",
    "user = \"movie\"\n",
    "password = \"password\""
   ]
  },
  {
   "cell_type": "code",
   "execution_count": 3,
   "id": "3f43c166-a02f-4a5a-804a-d60be19ea37a",
   "metadata": {},
   "outputs": [],
   "source": [
    "# post\n",
    "url  = f\"postgresql://{host}:{port}/{dbname}\""
   ]
  },
  {
   "cell_type": "code",
   "execution_count": 4,
   "id": "7607174c-95ed-469e-9e93-bbdf39600665",
   "metadata": {},
   "outputs": [],
   "source": [
    "conn = pg.connect(url, user=user, password=password)"
   ]
  },
  {
   "cell_type": "code",
   "execution_count": 5,
   "id": "c120a691-386b-448b-be6d-3389d2ce7f50",
   "metadata": {},
   "outputs": [
    {
     "data": {
      "text/plain": [
       "<connection object at 0x000002E3D1290260; dsn: 'user=movie password=xxx dbname=dbmovie host=10.31.70.76 port=5432', closed: 0>"
      ]
     },
     "execution_count": 5,
     "metadata": {},
     "output_type": "execute_result"
    }
   ],
   "source": [
    "conn"
   ]
  },
  {
   "cell_type": "code",
   "execution_count": 6,
   "id": "fa454d94-ab96-40cb-8b5f-1f295bf7c8f0",
   "metadata": {},
   "outputs": [],
   "source": [
    "query_all_movies = \"select * from movies\""
   ]
  },
  {
   "cell_type": "code",
   "execution_count": 7,
   "id": "b6e63f6e-9ddd-4d39-b969-0681c3e0ed38",
   "metadata": {},
   "outputs": [],
   "source": [
    "cur = conn.cursor() # on confie à un curseur le balayage de données requete par requete"
   ]
  },
  {
   "cell_type": "code",
   "execution_count": 8,
   "id": "e92ea046-c1f4-49f2-9c68-338f1319947f",
   "metadata": {},
   "outputs": [],
   "source": [
    "cur.execute(query_all_movies)"
   ]
  },
  {
   "cell_type": "code",
   "execution_count": 9,
   "id": "37b17b7b-675f-42fc-9162-29d839f58493",
   "metadata": {
    "tags": []
   },
   "outputs": [],
   "source": [
    "# movies = list(cur)"
   ]
  },
  {
   "cell_type": "code",
   "execution_count": 10,
   "id": "50d515af-d2bc-41bf-9d7f-ed53bb2e7fa2",
   "metadata": {},
   "outputs": [],
   "source": [
    "# movies[:3]"
   ]
  },
  {
   "cell_type": "code",
   "execution_count": 11,
   "id": "1dfd223a-7583-4d94-8ee9-f252022f6c94",
   "metadata": {},
   "outputs": [],
   "source": [
    "# Les curseurs et les connections c'est comme les fichiers il faut donc les fermer!\n",
    "cur.close()\n",
    "conn.close()"
   ]
  },
  {
   "cell_type": "code",
   "execution_count": 12,
   "id": "a06540e7-8bec-49ff-83a1-f887c0065ee5",
   "metadata": {},
   "outputs": [],
   "source": [
    "query_movies_by_year_range_title_containing = \"\"\"select\n",
    "    title, year, duration\n",
    "from movies\n",
    "where\n",
    "    year between %s and %s\n",
    "    and title like %s\n",
    "\"\"\""
   ]
  },
  {
   "cell_type": "code",
   "execution_count": 14,
   "id": "ceab7094-7148-4d51-b03f-7858e8599b66",
   "metadata": {},
   "outputs": [
    {
     "ename": "AttributeError",
     "evalue": "module 'movies' has no attribute 'Movie'",
     "output_type": "error",
     "traceback": [
      "\u001b[1;31m---------------------------------------------------------------------------\u001b[0m",
      "\u001b[1;31mAttributeError\u001b[0m                            Traceback (most recent call last)",
      "\u001b[1;32m~\\AppData\\Local\\Temp\\ipykernel_21780\\3312423923.py\u001b[0m in \u001b[0;36m<module>\u001b[1;34m\u001b[0m\n\u001b[0;32m      5\u001b[0m \u001b[0mtitle_input0\u001b[0m \u001b[1;33m=\u001b[0m \u001b[1;34m\"The Man Who Knew Too Much\"\u001b[0m\u001b[1;33m\u001b[0m\u001b[1;33m\u001b[0m\u001b[0m\n\u001b[0;32m      6\u001b[0m \u001b[0mtitle_input1\u001b[0m \u001b[1;33m=\u001b[0m \u001b[1;34m\"Star Wars\"\u001b[0m\u001b[1;33m\u001b[0m\u001b[1;33m\u001b[0m\u001b[0m\n\u001b[1;32m----> 7\u001b[1;33m \u001b[0mmovie_created\u001b[0m \u001b[1;33m=\u001b[0m \u001b[0mmovies\u001b[0m\u001b[1;33m.\u001b[0m\u001b[0mMovie\u001b[0m\u001b[1;33m(\u001b[0m\u001b[1;34m\"Expendibles 4\"\u001b[0m\u001b[1;33m,\u001b[0m \u001b[1;36m2023\u001b[0m\u001b[1;33m,\u001b[0m \u001b[1;36m145\u001b[0m\u001b[1;33m)\u001b[0m\u001b[1;33m\u001b[0m\u001b[1;33m\u001b[0m\u001b[0m\n\u001b[0m",
      "\u001b[1;31mAttributeError\u001b[0m: module 'movies' has no attribute 'Movie'"
     ]
    }
   ],
   "source": [
    "year1 = 1930\n",
    "year2 = 1960\n",
    "year3 = 1970\n",
    "year4 = 2020\n",
    "title_input0 = \"The Man Who Knew Too Much\"\n",
    "title_input1 = \"Star Wars\"\n",
    "movie_created = movies.Movie(\"Expendibles 4\", 2023, 145)"
   ]
  },
  {
   "cell_type": "code",
   "execution_count": null,
   "id": "2fc41832-934d-42d5-acb5-5de1422e5c51",
   "metadata": {},
   "outputs": [],
   "source": [
    "def movies_fx(movie_title, yearA, yearB):\n",
    "    title = f\"%{movie_title}%\"\n",
    "    with pg.connect(url, user=user, password=password) as conn:\n",
    "        with conn.cursor() as cur:\n",
    "            cur.execute(query_movies_by_year_range_title_containing, (yearA, yearB, title))\n",
    "            data = list(cur)\n",
    "        return data"
   ]
  },
  {
   "cell_type": "code",
   "execution_count": null,
   "id": "ea8c385a-3b73-4a12-bfd9-e7b029170bbf",
   "metadata": {},
   "outputs": [],
   "source": [
    "print(movies_fx(title_input0, year1, year2))"
   ]
  },
  {
   "cell_type": "code",
   "execution_count": null,
   "id": "10a70311-a12b-482c-afc7-56e20ec5eb98",
   "metadata": {},
   "outputs": [],
   "source": [
    "print(movies_fx(title_input1,year3, year4))"
   ]
  },
  {
   "cell_type": "code",
   "execution_count": null,
   "id": "c3fcd640-49ae-404a-a199-74e06782e3f6",
   "metadata": {},
   "outputs": [],
   "source": [
    "def insert_movie(movie_obj):\n",
    "    "
   ]
  },
  {
   "cell_type": "code",
   "execution_count": null,
   "id": "7151e7ad-8320-4a3c-a2fd-4af9ddbc1e12",
   "metadata": {},
   "outputs": [],
   "source": []
  }
 ],
 "metadata": {
  "kernelspec": {
   "display_name": "Python 3 (ipykernel)",
   "language": "python",
   "name": "python3"
  },
  "language_info": {
   "codemirror_mode": {
    "name": "ipython",
    "version": 3
   },
   "file_extension": ".py",
   "mimetype": "text/x-python",
   "name": "python",
   "nbconvert_exporter": "python",
   "pygments_lexer": "ipython3",
   "version": "3.9.13"
  }
 },
 "nbformat": 4,
 "nbformat_minor": 5
}
